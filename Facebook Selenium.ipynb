{
 "cells": [
  {
   "cell_type": "code",
   "execution_count": 1,
   "metadata": {},
   "outputs": [],
   "source": [
    "import numpy as np\n",
    "from time import sleep\n",
    "import random\n",
    "from selenium.common.exceptions import NoSuchElementException, ElementNotInteractableException\n",
    "from selenium.webdriver.common.by import By\n",
    "import pandas as pd\n",
    "from selenium import webdriver\n",
    "from selenium.webdriver.chrome.service import Service as ChromeService\n",
    "from webdriver_manager.chrome import ChromeDriverManager\n",
    "import json\n",
    "import os\n",
    "import time\n",
    "import getpass\n",
    "# Khai báo trình duyệt Chrome\n",
    "# driver = webdriver.Chrome(service=ChromeService(ChromeDriverManager().install()))"
   ]
  },
  {
   "cell_type": "code",
   "execution_count": 2,
   "metadata": {},
   "outputs": [],
   "source": [
    "# # Mở URL\n",
    "# driver.get(\"\")\n",
    "# # driver.implicitly_wait(100)  # Thiết lập thời gian chờ là 100 giây\n",
    "# driver.maximize_window()"
   ]
  },
  {
   "cell_type": "code",
   "execution_count": 3,
   "metadata": {},
   "outputs": [],
   "source": [
    "class FacebookGroupScraper:\n",
    "    def __init__(self):\n",
    "        print(\"\\n === FACEBOOK GROUP MEMBER SCRAPER ===\")\n",
    "        self.get_config()\n",
    "        self.setup_driver()\n",
    "\n",
    "    def get_config(self):\n",
    "        try:\n",
    "            #thong tin dang nhap\n",
    "            print(\"Nhap thong tin dang nhap\")\n",
    "            self.email = input(\"Emil/UserName: \").strip()\n",
    "            self.password = getpass.getpass(\"Password: \")\n",
    "\n",
    "            #ID Group\n",
    "            print(\"\\n Nhap ID group facebook:\")\n",
    "            self.group_id = input(\"Group ID: \").strip()\n",
    "\n",
    "            #So lan scroll\n",
    "            print(\"\\nSo lan scroll de load\")\n",
    "            self.scroll_count = int(input(\"So lan scroll (mac dinh 5)\") or \"5\")\n",
    "        except Exception as e:\n",
    "            print(f\"Loi cau hinh {e}\")\n",
    "            pass\n",
    "    \n",
    "    def setup_driver(self):\n",
    "        try:\n",
    "            self.driver = webdriver.Chrome()\n",
    "            self.driver.maximize_window()\n",
    "        except Exception as e:\n",
    "            print(f\"Loi khoi tao trunh duyet: {e}\")\n",
    "    \n",
    "    def login(self):\n",
    "\n",
    "        try:\n",
    "            self.driver.get(\"https://www.facebook.com/\")\n",
    "\n",
    "            #Nhap email\n",
    "            email_input = self.driver.find_element(By.ID, \"email\")\n",
    "            email_input.send_keys(self.email)\n",
    "\n",
    "            #Nhap password\n",
    "            pass_input = self.driver.find_element(By.ID, \"pass\")\n",
    "            pass_input.send_keys(self.password)\n",
    "\n",
    "            #Click login\n",
    "            login_button = self.driver.find_element(By.NAME, \"login\")\n",
    "            login_button.click()\n",
    "\n",
    "            time.sleep()\n",
    "            print('Dang nhap thanh cong')\n",
    "            return True\n",
    "        except Exception as e:\n",
    "            print(f\"Loi dang nhap: {e}\")\n",
    "            return False\n",
    "\n",
    "    def get_group_member():\n",
    "        pass"
   ]
  },
  {
   "cell_type": "code",
   "execution_count": 4,
   "metadata": {},
   "outputs": [],
   "source": [
    "def main():\n",
    "    scraper = None\n",
    "    \n",
    "    try:\n",
    "        scraper = FacebookGroupScraper()\n",
    "        if scraper.login():\n",
    "            print(\"____________________\")\n",
    "            time.sleep(10)\n",
    "        time.sleep(10)\n",
    "    except Exception:\n",
    "        pass\n",
    "\n"
   ]
  },
  {
   "cell_type": "code",
   "execution_count": null,
   "metadata": {},
   "outputs": [
    {
     "name": "stdout",
     "output_type": "stream",
     "text": [
      "\n",
      " === FACEBOOK GROUP MEMBER SCRAPER ===\n",
      "Nhap thong tin dang nhap\n",
      "\n",
      " Nhap ID group facebook:\n",
      "\n",
      "So lan scroll de load\n"
     ]
    }
   ],
   "source": [
    "if __name__ == \"__main__\":\n",
    "    main()"
   ]
  }
 ],
 "metadata": {
  "kernelspec": {
   "display_name": "Python 3",
   "language": "python",
   "name": "python3"
  },
  "language_info": {
   "codemirror_mode": {
    "name": "ipython",
    "version": 3
   },
   "file_extension": ".py",
   "mimetype": "text/x-python",
   "name": "python",
   "nbconvert_exporter": "python",
   "pygments_lexer": "ipython3",
   "version": "3.12.3"
  }
 },
 "nbformat": 4,
 "nbformat_minor": 2
}
