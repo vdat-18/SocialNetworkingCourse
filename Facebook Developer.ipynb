{
 "cells": [
  {
   "cell_type": "code",
   "execution_count": 1,
   "metadata": {},
   "outputs": [
    {
     "name": "stdout",
     "output_type": "stream",
     "text": [
      "Requirement already satisfied: facebook-sdk in c:\\users\\cuong dat phat\\appdata\\local\\programs\\python\\python312\\lib\\site-packages (3.1.0)\n",
      "Requirement already satisfied: requests in c:\\users\\cuong dat phat\\appdata\\local\\programs\\python\\python312\\lib\\site-packages (from facebook-sdk) (2.32.3)\n",
      "Requirement already satisfied: charset-normalizer<4,>=2 in c:\\users\\cuong dat phat\\appdata\\local\\programs\\python\\python312\\lib\\site-packages (from requests->facebook-sdk) (3.3.2)\n",
      "Requirement already satisfied: idna<4,>=2.5 in c:\\users\\cuong dat phat\\appdata\\local\\programs\\python\\python312\\lib\\site-packages (from requests->facebook-sdk) (3.7)\n",
      "Requirement already satisfied: urllib3<3,>=1.21.1 in c:\\users\\cuong dat phat\\appdata\\local\\programs\\python\\python312\\lib\\site-packages (from requests->facebook-sdk) (2.2.2)\n",
      "Requirement already satisfied: certifi>=2017.4.17 in c:\\users\\cuong dat phat\\appdata\\local\\programs\\python\\python312\\lib\\site-packages (from requests->facebook-sdk) (2024.6.2)\n"
     ]
    },
    {
     "name": "stderr",
     "output_type": "stream",
     "text": [
      "\n",
      "[notice] A new release of pip is available: 24.0 -> 24.3.1\n",
      "[notice] To update, run: python.exe -m pip install --upgrade pip\n"
     ]
    }
   ],
   "source": [
    "!pip install facebook-sdk\n"
   ]
  },
  {
   "cell_type": "code",
   "execution_count": 2,
   "metadata": {},
   "outputs": [],
   "source": [
    "import facebook\n",
    "import json\n",
    "from datetime import datetime\n",
    "import time\n",
    "from collections import defaultdict\n",
    "import pandas as pd"
   ]
  },
  {
   "cell_type": "code",
   "execution_count": 3,
   "metadata": {},
   "outputs": [
    {
     "name": "stdout",
     "output_type": "stream",
     "text": [
      "FacebookCollector initialized successfully.\n",
      "Invalid token: Error validating access token: Session has expired on Monday, 25-Nov-24 19:00:00 PST. The current time is Monday, 02-Dec-24 17:25:41 PST.\n"
     ]
    }
   ],
   "source": [
    "import facebook  # Thư viện để tương tác với Facebook Graph API\n",
    "import pandas as pd  # Thư viện để làm việc với dữ liệu dạng bảng (DataFrame)\n",
    "import json  # Thư viện để xử lý dữ liệu JSON\n",
    "from datetime import datetime  # Thư viện để làm việc với ngày giờ\n",
    "import os  # Thư viện để làm việc với hệ thống tệp và thư mục\n",
    "\n",
    "\n",
    "class FacebookCollector:\n",
    "    def __init__(self, access_token):\n",
    "        \"\"\"\n",
    "        Khởi tạo đối tượng FacebookCollector với mã thông báo truy cập (access token) đã cung cấp.\n",
    "        \"\"\"\n",
    "        try:\n",
    "            self.access_token = access_token  # Lưu mã thông báo truy cập\n",
    "            self.graph = facebook.GraphAPI(access_token)  # Khởi tạo đối tượng GraphAPI để tương tác với Facebook\n",
    "            print(\"FacebookCollector initialized successfully.\")\n",
    "        except Exception as e:\n",
    "            print(f\"Initialization error: {e}\")  # In ra lỗi nếu không thể khởi tạo đối tượng\n",
    "\n",
    "    def check_token_validity(self):\n",
    "        \"\"\"\n",
    "        Kiểm tra xem mã thông báo truy cập có hợp lệ hay không.\n",
    "        \"\"\"\n",
    "        try:\n",
    "            # Lấy thông tin người dùng hiện tại để kiểm tra tính hợp lệ của mã thông báo\n",
    "            me = self.graph.get_object('me', fields='id,name')\n",
    "            print(f\"Token is valid. User: {me.get('name')}, ID: {me.get('id')}\")\n",
    "            return True\n",
    "        except Exception as e:\n",
    "            print(f\"Invalid token: {e}\")  # In lỗi nếu mã thông báo không hợp lệ\n",
    "            return False\n",
    "\n",
    "    def collect_data(self, limit=10):\n",
    "        \"\"\"\n",
    "        Thu thập bài viết từ dòng thời gian của người dùng Facebook (feed) với giới hạn bài viết (limit).\n",
    "        \"\"\"\n",
    "        try:\n",
    "            # Lấy các bài viết từ dòng thời gian của người dùng\n",
    "            posts = self.graph.get_object(\n",
    "                \"me/feed\",  # Lấy dữ liệu từ dòng thời gian của người dùng hiện tại\n",
    "                fields=\"id,message,created_time,comments.limit(100),reactions.limit(100),shares,type\",  # Chọn các trường cần thu thập\n",
    "                limit=limit  # Giới hạn số lượng bài viết lấy về\n",
    "            )\n",
    "            print(\"Posts collected successfully:\")\n",
    "            # Lặp qua từng bài viết và in ra thông tin chi tiết\n",
    "            for post in posts.get('data', []):\n",
    "                print(f\"Id: {post.get('id')}\")\n",
    "                print(f\"Message: {post.get('message')}\")\n",
    "                print(f\"Created Time: {post.get('created_time')}\")\n",
    "                print(f\"Comments: {post.get('comments')}\")\n",
    "                print(f\"Reactions: {post.get('reactions')}\")\n",
    "                print(f\"Shares: {post.get('shares')}\")\n",
    "                print(f\"Type: {post.get('type')}\")\n",
    "                print('______________________')\n",
    "            return posts  # Trả về dữ liệu bài viết thu thập được\n",
    "        except Exception as e:\n",
    "            print(f\"Error in collect_data: {e}\")  # In lỗi nếu có vấn đề trong quá trình thu thập dữ liệu\n",
    "            return None  # Trả về None nếu thu thập dữ liệu không thành công\n",
    "\n",
    "    def json_to_excel(self, my_json, excel_file=None, output_dir=None):\n",
    "        \"\"\"\n",
    "        Chuyển dữ liệu JSON sang file Excel và lưu vào thư mục đầu ra được chỉ định.\n",
    "        \"\"\"\n",
    "        try:\n",
    "            # Chuẩn bị dữ liệu cho DataFrame\n",
    "            posts = []\n",
    "            for post in my_json.get('data', []):\n",
    "                post_data = {\n",
    "                    'id': post.get('id', ''),  # Lấy ID bài viết\n",
    "                    'message': post.get('message', ''),  # Lấy nội dung bài viết\n",
    "                    'created_time': post.get('created_time', '')  # Lấy thời gian tạo bài viết\n",
    "                }\n",
    "                posts.append(post_data)  # Thêm thông tin bài viết vào danh sách\n",
    "\n",
    "            # Tạo DataFrame từ danh sách bài viết\n",
    "            df = pd.DataFrame(posts)\n",
    "            if 'created_time' in df.columns:\n",
    "                # Chuyển đổi cột 'created_time' thành định dạng ngày giờ (YYYY-MM-DD HH:MM:SS)\n",
    "                df['created_time'] = pd.to_datetime(df['created_time']).dt.strftime('%Y-%m-%d %H:%M:%S')\n",
    "\n",
    "            # Xác định tên file Excel và thư mục lưu\n",
    "            if not excel_file:\n",
    "                timestamp = datetime.now().strftime('%Y%m%d%H%M%S')  # Tạo tên file với dấu thời gian\n",
    "                excel_file = f'facebook_posts_{timestamp}.xlsx'\n",
    "            \n",
    "            # Đảm bảo thư mục đầu ra tồn tại\n",
    "            if output_dir:\n",
    "                os.makedirs(output_dir, exist_ok=True)  # Tạo thư mục nếu chưa tồn tại\n",
    "                excel_file = os.path.join(output_dir, excel_file)  # Lưu đường dẫn đầy đủ\n",
    "\n",
    "            # Xuất dữ liệu DataFrame vào file Excel\n",
    "            df.to_excel(excel_file, index=False)\n",
    "            print(f\"Data saved to {excel_file}\")  # In thông báo nếu lưu thành công\n",
    "            return excel_file  # Trả về đường dẫn file Excel\n",
    "        except Exception as e:\n",
    "            print(f\"Error exporting to Excel: {e}\")  # In lỗi nếu có vấn đề trong quá trình lưu dữ liệu\n",
    "            return None  # Trả về None nếu xuất dữ liệu không thành công\n",
    "\n",
    "def main():\n",
    "    ACCESS_TOKEN = 'EAASkTBte5fYBO3KXGrlEjvU8DV7ttxDKnKK5ZApsW5YUBD8JpUXZCMhl8CZCPUOJMhPGn1GFLSov74f3b1Q8GjoINNhc0iC38newyP91Gom1kAJ0OmHOVND1mRnLVOL5VkY5aYw4VZA4ggyZCnI1aE9L2AEfLX6rnbIR19c73SFnZCWqXH9QOoXDaJONeJHQ8lB2m0PZCRcwesIoeDWNAzoXAxHXDhRxxUOpfpzpeZALTSh4m4QSEP1x'\n",
    "    output_dir = \"D:/du lieu o cu/HUTECH Courses/Social Networking Course/Data Crawling\"  # Đường dẫn thư mục lưu file Excel\n",
    "\n",
    "    collector = FacebookCollector(ACCESS_TOKEN)  # Khởi tạo đối tượng FacebookCollector với mã thông báo truy cập\n",
    "\n",
    "    # Kiểm tra tính hợp lệ của mã thông báo\n",
    "    if collector.check_token_validity():\n",
    "        # Thu thập dữ liệu bài viết\n",
    "        posts = collector.collect_data()\n",
    "\n",
    "        # Lưu dữ liệu thu thập được vào file Excel\n",
    "        if posts:\n",
    "            collector.json_to_excel(posts, output_dir=output_dir)\n",
    "\n",
    "if __name__ == \"__main__\":\n",
    "    main()  # Chạy hàm main khi file được thực thi\n"
   ]
  },
  {
   "cell_type": "code",
   "execution_count": null,
   "metadata": {},
   "outputs": [
    {
     "name": "stdout",
     "output_type": "stream",
     "text": [
      "FacebookCollector initialized successfully.\n",
      "Invalid token: Malformed access token\n"
     ]
    }
   ],
   "source": [
    "def main():\n",
    "    ACCESS_TOKEN = 'EAASkTBte5fYBO3KXGrlEjvU8DV7ttxDKnKK5ZApsW5YUBD8JpUXZCMhl8CZCPUOJMhPGn1GFLSov74f3b1Q8GjoINNhc0iC38newyP91Gom1kAJ0OmHOVND1mRnLVOL5VkY5aYw4VZA4ggyZCnI1aE9L2AEfLX6rnbIR19c73SFnZCWqXH9QOoXDaJONeJHQ8lB2m0PZCRcwesIoeDWNAzoXAxHXDhRxxUOpfpzpeZALTSh4m4QSEP1x'\n",
    "    output_dir = \"D:/du lieu o cu/HUTECH Courses/Social Networking Course/Data Crawling\"\n",
    "\n",
    "    collector = FacebookCollector(ACCESS_TOKEN)\n",
    "\n",
    "    # Check if the token is valid\n",
    "    if collector.check_token_validity():\n",
    "        # Collect data\n",
    "        posts = collector.collect_data()\n",
    "\n",
    "        # Save collected data to an Excel file\n",
    "        if posts:\n",
    "            collector.json_to_excel(posts, output_dir=output_dir)\n",
    "\n",
    "if __name__ == \"__main__\":\n",
    "    main()\n"
   ]
  },
  {
   "cell_type": "code",
   "execution_count": null,
   "metadata": {},
   "outputs": [],
   "source": []
  }
 ],
 "metadata": {
  "kernelspec": {
   "display_name": "Python 3",
   "language": "python",
   "name": "python3"
  },
  "language_info": {
   "codemirror_mode": {
    "name": "ipython",
    "version": 3
   },
   "file_extension": ".py",
   "mimetype": "text/x-python",
   "name": "python",
   "nbconvert_exporter": "python",
   "pygments_lexer": "ipython3",
   "version": "3.12.3"
  }
 },
 "nbformat": 4,
 "nbformat_minor": 2
}
